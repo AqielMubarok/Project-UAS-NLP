{
  "nbformat": 4,
  "nbformat_minor": 0,
  "metadata": {
    "colab": {
      "name": "Sentimen Analysis Classroom.ipynb",
      "provenance": [],
      "collapsed_sections": [],
      "include_colab_link": true
    },
    "kernelspec": {
      "name": "python3",
      "display_name": "Python 3"
    },
    "language_info": {
      "name": "python"
    }
  },
  "cells": [
    {
      "cell_type": "markdown",
      "metadata": {
        "id": "view-in-github",
        "colab_type": "text"
      },
      "source": [
        "<a href=\"https://colab.research.google.com/github/AqielMubarok/Project-UAS-NLP/blob/main/Sentimen_Analysis_Classroom.ipynb\" target=\"_parent\"><img src=\"https://colab.research.google.com/assets/colab-badge.svg\" alt=\"Open In Colab\"/></a>"
      ]
    },
    {
      "cell_type": "markdown",
      "source": [
        "Sentimen Analysis"
      ],
      "metadata": {
        "id": "PEHeymD8ALFO"
      }
    },
    {
      "cell_type": "code",
      "source": [
        "from google.colab import drive \n",
        "drive.mount(\"/content/drive\")"
      ],
      "metadata": {
        "colab": {
          "base_uri": "https://localhost:8080/"
        },
        "id": "-615BSMkHl0A",
        "outputId": "6d752fe1-ec4b-4091-ad9a-36c775f5542d"
      },
      "execution_count": null,
      "outputs": [
        {
          "output_type": "stream",
          "name": "stdout",
          "text": [
            "Mounted at /content/drive\n"
          ]
        }
      ]
    },
    {
      "cell_type": "code",
      "source": [
        "#Import required Libraries\n",
        "import pandas as pd\n",
        "import numpy as np\n",
        "import matplotlib.pyplot as plt \n",
        "import seaborn as sns\n",
        "import string\n",
        "import re\n",
        "import nltk\n",
        "nltk.download('punkt')\n",
        "nltk.download('stopwords')"
      ],
      "metadata": {
        "id": "M9rvXt5tAONJ",
        "colab": {
          "base_uri": "https://localhost:8080/"
        },
        "outputId": "c940a921-f6d5-4392-c24b-74c99eff94cb"
      },
      "execution_count": null,
      "outputs": [
        {
          "output_type": "stream",
          "name": "stdout",
          "text": [
            "[nltk_data] Downloading package punkt to /root/nltk_data...\n",
            "[nltk_data]   Package punkt is already up-to-date!\n",
            "[nltk_data] Downloading package stopwords to /root/nltk_data...\n",
            "[nltk_data]   Package stopwords is already up-to-date!\n"
          ]
        },
        {
          "output_type": "execute_result",
          "data": {
            "text/plain": [
              "True"
            ]
          },
          "metadata": {},
          "execution_count": 10
        }
      ]
    },
    {
      "cell_type": "code",
      "source": [
        "pip install Sastrawi"
      ],
      "metadata": {
        "colab": {
          "base_uri": "https://localhost:8080/"
        },
        "id": "xkt7D7exCGGT",
        "outputId": "d94fbd65-276a-4e50-abd2-99e5bfc80f3d"
      },
      "execution_count": null,
      "outputs": [
        {
          "output_type": "stream",
          "name": "stdout",
          "text": [
            "Collecting Sastrawi\n",
            "  Downloading Sastrawi-1.0.1-py2.py3-none-any.whl (209 kB)\n",
            "\u001b[?25l\r\u001b[K     |█▋                              | 10 kB 24.0 MB/s eta 0:00:01\r\u001b[K     |███▏                            | 20 kB 27.0 MB/s eta 0:00:01\r\u001b[K     |████▊                           | 30 kB 17.5 MB/s eta 0:00:01\r\u001b[K     |██████▎                         | 40 kB 12.4 MB/s eta 0:00:01\r\u001b[K     |███████▉                        | 51 kB 5.6 MB/s eta 0:00:01\r\u001b[K     |█████████▍                      | 61 kB 5.7 MB/s eta 0:00:01\r\u001b[K     |███████████                     | 71 kB 5.4 MB/s eta 0:00:01\r\u001b[K     |████████████▌                   | 81 kB 6.0 MB/s eta 0:00:01\r\u001b[K     |██████████████                  | 92 kB 6.0 MB/s eta 0:00:01\r\u001b[K     |███████████████▋                | 102 kB 5.2 MB/s eta 0:00:01\r\u001b[K     |█████████████████▏              | 112 kB 5.2 MB/s eta 0:00:01\r\u001b[K     |██████████████████▊             | 122 kB 5.2 MB/s eta 0:00:01\r\u001b[K     |████████████████████▎           | 133 kB 5.2 MB/s eta 0:00:01\r\u001b[K     |█████████████████████▉          | 143 kB 5.2 MB/s eta 0:00:01\r\u001b[K     |███████████████████████▍        | 153 kB 5.2 MB/s eta 0:00:01\r\u001b[K     |█████████████████████████       | 163 kB 5.2 MB/s eta 0:00:01\r\u001b[K     |██████████████████████████▋     | 174 kB 5.2 MB/s eta 0:00:01\r\u001b[K     |████████████████████████████▏   | 184 kB 5.2 MB/s eta 0:00:01\r\u001b[K     |█████████████████████████████▊  | 194 kB 5.2 MB/s eta 0:00:01\r\u001b[K     |███████████████████████████████▎| 204 kB 5.2 MB/s eta 0:00:01\r\u001b[K     |████████████████████████████████| 209 kB 5.2 MB/s \n",
            "\u001b[?25hInstalling collected packages: Sastrawi\n",
            "Successfully installed Sastrawi-1.0.1\n"
          ]
        }
      ]
    },
    {
      "cell_type": "code",
      "source": [
        "df =  pd.read_csv('/content/sample_data/hasil_proses_pradataset.tsv',delimiter='\\t',names= ['value','komentar'])\n",
        "df.head()"
      ],
      "metadata": {
        "colab": {
          "base_uri": "https://localhost:8080/",
          "height": 206
        },
        "id": "Dcdj7-PCBhhg",
        "outputId": "513d86d9-cea6-4e32-92a7-3db57a031628"
      },
      "execution_count": null,
      "outputs": [
        {
          "output_type": "execute_result",
          "data": {
            "text/html": [
              "<div>\n",
              "<style scoped>\n",
              "    .dataframe tbody tr th:only-of-type {\n",
              "        vertical-align: middle;\n",
              "    }\n",
              "\n",
              "    .dataframe tbody tr th {\n",
              "        vertical-align: top;\n",
              "    }\n",
              "\n",
              "    .dataframe thead th {\n",
              "        text-align: right;\n",
              "    }\n",
              "</style>\n",
              "<table border=\"1\" class=\"dataframe\">\n",
              "  <thead>\n",
              "    <tr style=\"text-align: right;\">\n",
              "      <th></th>\n",
              "      <th>value</th>\n",
              "      <th>komentar</th>\n",
              "    </tr>\n",
              "  </thead>\n",
              "  <tbody>\n",
              "    <tr>\n",
              "      <th>0</th>\n",
              "      <td>POSITIVE</td>\n",
              "      <td>aink dikasi tugas video mulu lah</td>\n",
              "    </tr>\n",
              "    <tr>\n",
              "      <th>1</th>\n",
              "      <td>NEGATIVE</td>\n",
              "      <td>Bagus apk nya, tp kok ada bug tiba-tiba ada no...</td>\n",
              "    </tr>\n",
              "    <tr>\n",
              "      <th>2</th>\n",
              "      <td>NEGATIVE</td>\n",
              "      <td>Yaahh... Kasian bljr daring ???? pada ngeluh b...</td>\n",
              "    </tr>\n",
              "    <tr>\n",
              "      <th>3</th>\n",
              "      <td>NEGATIVE</td>\n",
              "      <td>aneh mw ngirim tugas pidio malah gabisa maksut...</td>\n",
              "    </tr>\n",
              "    <tr>\n",
              "      <th>4</th>\n",
              "      <td>POSITIVE</td>\n",
              "      <td>Terimakasih berkat aplikasi ini saya jadi juar...</td>\n",
              "    </tr>\n",
              "  </tbody>\n",
              "</table>\n",
              "</div>"
            ],
            "text/plain": [
              "      value                                           komentar\n",
              "0  POSITIVE                   aink dikasi tugas video mulu lah\n",
              "1  NEGATIVE  Bagus apk nya, tp kok ada bug tiba-tiba ada no...\n",
              "2  NEGATIVE  Yaahh... Kasian bljr daring ???? pada ngeluh b...\n",
              "3  NEGATIVE  aneh mw ngirim tugas pidio malah gabisa maksut...\n",
              "4  POSITIVE  Terimakasih berkat aplikasi ini saya jadi juar..."
            ]
          },
          "metadata": {},
          "execution_count": 12
        }
      ]
    },
    {
      "cell_type": "code",
      "source": [
        "#import stopword\n",
        "from nltk.tokenize import sent_tokenize, word_tokenize\n",
        "from Sastrawi.StopWordRemover.StopWordRemoverFactory import StopWordRemoverFactory"
      ],
      "metadata": {
        "id": "nFRYkBCEijvB"
      },
      "execution_count": null,
      "outputs": []
    },
    {
      "cell_type": "code",
      "source": [
        "def pre_process(text):\n",
        "    # Case Folding: Lowercase\n",
        "    # Merubah format teks menjadi format huruf kecil semua (lowercase).\n",
        "    text = text.lower()\n",
        "\n",
        "    # Case Folding: Removing Number\n",
        "    # Menghapus karakter angka.\n",
        "    text = re.sub(r\"\\d\", \"\", text)\n",
        "\n",
        "    # Case Folding: Removing Punctuation\n",
        "    # Menghapus karakter tanda baca.\n",
        "    text = text.translate(str.maketrans(\"\",\"\",string.punctuation))\n",
        "\n",
        "    # Case Folding: Removing Whitespace\n",
        "    # Menghapus karakter kosong.\n",
        "    text = text.strip()\n",
        "\n",
        "    #Separating Sentences with Split () Method\n",
        "    #Fungsi split() memisahkan string ke dalam list dengan spasi sebagai pemisah jika tidak ditentukan pemisahnya.\n",
        "    pisah = text.split()\n",
        "\n",
        "    #Tokenizing: Word Tokenizing Using NLTK Module\n",
        "    #Menggunakan Library NLTK untuk memisahkan kata dalam sebuah kalimat.\n",
        "    tokens = nltk.tokenize.word_tokenize(text)\n",
        "\n",
        "    #Filtering using sastrawi\n",
        "    factory = StopWordRemoverFactory()\n",
        "    stopword = factory.create_stop_word_remover()\n",
        "    text = stopword.remove(text)\n",
        "\n",
        "    return text\n",
        "\n",
        "df['komentar'] = df['komentar'].apply(lambda x:pre_process(x))\n",
        "df.head()"
      ],
      "metadata": {
        "colab": {
          "base_uri": "https://localhost:8080/",
          "height": 206
        },
        "id": "n7SXjYkFjGQi",
        "outputId": "031e68af-98cf-49d1-9b8d-c3b90146e523"
      },
      "execution_count": null,
      "outputs": [
        {
          "output_type": "execute_result",
          "data": {
            "text/html": [
              "<div>\n",
              "<style scoped>\n",
              "    .dataframe tbody tr th:only-of-type {\n",
              "        vertical-align: middle;\n",
              "    }\n",
              "\n",
              "    .dataframe tbody tr th {\n",
              "        vertical-align: top;\n",
              "    }\n",
              "\n",
              "    .dataframe thead th {\n",
              "        text-align: right;\n",
              "    }\n",
              "</style>\n",
              "<table border=\"1\" class=\"dataframe\">\n",
              "  <thead>\n",
              "    <tr style=\"text-align: right;\">\n",
              "      <th></th>\n",
              "      <th>value</th>\n",
              "      <th>komentar</th>\n",
              "    </tr>\n",
              "  </thead>\n",
              "  <tbody>\n",
              "    <tr>\n",
              "      <th>0</th>\n",
              "      <td>POSITIVE</td>\n",
              "      <td>aink dikasi tugas video mulu lah</td>\n",
              "    </tr>\n",
              "    <tr>\n",
              "      <th>1</th>\n",
              "      <td>NEGATIVE</td>\n",
              "      <td>bagus apk nya tp kok bug tibatiba notif tugas ...</td>\n",
              "    </tr>\n",
              "    <tr>\n",
              "      <th>2</th>\n",
              "      <td>NEGATIVE</td>\n",
              "      <td>yaahh kasian bljr daring  ngeluh bug yaa wkwk</td>\n",
              "    </tr>\n",
              "    <tr>\n",
              "      <th>3</th>\n",
              "      <td>NEGATIVE</td>\n",
              "      <td>aneh mw ngirim tugas pidio malah gabisa maksut</td>\n",
              "    </tr>\n",
              "    <tr>\n",
              "      <th>4</th>\n",
              "      <td>POSITIVE</td>\n",
              "      <td>terimakasih berkat aplikasi jadi juara  dunia ...</td>\n",
              "    </tr>\n",
              "  </tbody>\n",
              "</table>\n",
              "</div>"
            ],
            "text/plain": [
              "      value                                           komentar\n",
              "0  POSITIVE                   aink dikasi tugas video mulu lah\n",
              "1  NEGATIVE  bagus apk nya tp kok bug tibatiba notif tugas ...\n",
              "2  NEGATIVE      yaahh kasian bljr daring  ngeluh bug yaa wkwk\n",
              "3  NEGATIVE     aneh mw ngirim tugas pidio malah gabisa maksut\n",
              "4  POSITIVE  terimakasih berkat aplikasi jadi juara  dunia ..."
            ]
          },
          "metadata": {},
          "execution_count": 14
        }
      ]
    },
    {
      "cell_type": "code",
      "source": [
        "#Vectorization\n",
        "from sklearn.feature_extraction.text import CountVectorizer\n",
        "\n",
        "cv = CountVectorizer()\n",
        "cv.fit(df['komentar'])\n",
        "X = cv.transform(df['komentar'])\n",
        "\n",
        "y = df['value']"
      ],
      "metadata": {
        "id": "UU5d3bLpoZ04"
      },
      "execution_count": null,
      "outputs": []
    },
    {
      "cell_type": "code",
      "source": [
        "#Build Classfier\n",
        "from sklearn.linear_model import LogisticRegression\n",
        "from sklearn.svm import SVC\n",
        "from sklearn.metrics import accuracy_score\n",
        "from sklearn.model_selection import train_test_split\n",
        "\n",
        "X_train, X_test, y_train, y_test = train_test_split(X,y, train_size=0.80)"
      ],
      "metadata": {
        "id": "TcICQYAYpO9M"
      },
      "execution_count": null,
      "outputs": []
    },
    {
      "cell_type": "code",
      "source": [
        "#find the best value of C in logistic regression\n",
        "\n",
        "for c in [0.01, 0.05, 0.25, 0.5, 1]:\n",
        "\n",
        "  lr = LogisticRegression(C=c)\n",
        "  lr.fit(X_train, y_train)\n",
        "  print('Accuracy for C=%s: %s'\n",
        "       % (c, accuracy_score(y_test, lr.predict(X_test))))"
      ],
      "metadata": {
        "colab": {
          "base_uri": "https://localhost:8080/"
        },
        "id": "5W1geApANAGa",
        "outputId": "f6b0bde4-e106-408d-f6f6-821250429696"
      },
      "execution_count": null,
      "outputs": [
        {
          "output_type": "stream",
          "name": "stdout",
          "text": [
            "Accuracy for C=0.01: 0.7541436464088398\n",
            "Accuracy for C=0.05: 0.8093922651933702\n",
            "Accuracy for C=0.25: 0.7928176795580111\n",
            "Accuracy for C=0.5: 0.7983425414364641\n",
            "Accuracy for C=1: 0.7983425414364641\n"
          ]
        }
      ]
    },
    {
      "cell_type": "code",
      "source": [
        "#find the best value of C in support vector\n",
        "for c in [0.01, 0.05, 0.25, 0.5, 1]:\n",
        "\n",
        "  sv = SVC(C=c)\n",
        "  sv.fit(X_train, y_train)\n",
        "  print('Accuracy for C=%s: %s'\n",
        "       % (c, accuracy_score(y_test, lr.predict(X_test))))"
      ],
      "metadata": {
        "colab": {
          "base_uri": "https://localhost:8080/"
        },
        "id": "5K4Qbq1AR4Uq",
        "outputId": "9ad4ed52-fda0-4919-ee07-f7a79553f772"
      },
      "execution_count": null,
      "outputs": [
        {
          "output_type": "stream",
          "name": "stdout",
          "text": [
            "Accuracy for C=0.01: 0.7983425414364641\n",
            "Accuracy for C=0.05: 0.7983425414364641\n",
            "Accuracy for C=0.25: 0.7983425414364641\n",
            "Accuracy for C=0.5: 0.7983425414364641\n",
            "Accuracy for C=1: 0.7983425414364641\n"
          ]
        }
      ]
    },
    {
      "cell_type": "code",
      "source": [
        "#Were I choose C=1 to build the final model for Logistic Regression\n",
        "final_model_lr = LogisticRegression(C=1)\n",
        "final_model_lr.fit(X, y)\n",
        "print('Final Model Accuracy: %s' %accuracy_score(y_test, final_model_lr.predict(X_test)))"
      ],
      "metadata": {
        "id": "bSi3hJ-tTBZ2",
        "colab": {
          "base_uri": "https://localhost:8080/"
        },
        "outputId": "a8e01e70-487a-4ccc-8005-c3c6348a71de"
      },
      "execution_count": 40,
      "outputs": [
        {
          "output_type": "stream",
          "name": "stdout",
          "text": [
            "Final Model Accuracy: 0.9475138121546961\n"
          ]
        }
      ]
    },
    {
      "cell_type": "code",
      "source": [
        "#Were I choose C=1 to build the final model for support vector\n",
        "final_model_sv = SVC(C=1)\n",
        "final_model_sv.fit(X, y)\n",
        "print('Final Model Accuracy: %s' %accuracy_score(y_test, final_model_sv.predict(X_test)))"
      ],
      "metadata": {
        "colab": {
          "base_uri": "https://localhost:8080/"
        },
        "id": "7oG3_TT4s5IP",
        "outputId": "5f01d4d1-6590-4818-ee0d-65417ec41c78"
      },
      "execution_count": 41,
      "outputs": [
        {
          "output_type": "stream",
          "name": "stdout",
          "text": [
            "Final Model Accuracy: 0.9033149171270718\n"
          ]
        }
      ]
    }
  ]
}